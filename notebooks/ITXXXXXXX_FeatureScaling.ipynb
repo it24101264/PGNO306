{
 "cells": [
  {
   "cell_type": "markdown",
   "id": "05a9f51d",
   "metadata": {},
   "source": [
    "# Data Transformation / Feature Scaling"
   ]
  },
  {
   "cell_type": "code",
   "execution_count": null,
   "id": "879a449b",
   "metadata": {
    "vscode": {
     "languageId": "plaintext"
    }
   },
   "outputs": [],
   "source": []
  }
 ],
 "metadata": {
  "language_info": {
   "name": "python"
  }
 },
 "nbformat": 4,
 "nbformat_minor": 5
}
