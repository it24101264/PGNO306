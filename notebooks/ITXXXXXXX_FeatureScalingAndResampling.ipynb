{
 "cells": [
  {
   "cell_type": "markdown",
   "id": "05a9f51d",
   "metadata": {},
   "source": [
    "# Data Resampling / Feature Scaling"
   ]
  },
  {
   "cell_type": "code",
   "execution_count": 9,
   "id": "bd23be81",
   "metadata": {},
   "outputs": [],
   "source": [
    "# import all the tools We need\n",
    "\n",
    "# Regular EDA and plotting libraries\n",
    "import pandas as pd\n",
    "import sklearn\n",
    "import numpy as np\n",
    "import matplotlib.pyplot as plt\n",
    "import seaborn as sns\n",
    "\n",
    "\n",
    "from sklearn.preprocessing import LabelEncoder\n",
    "from sklearn.feature_selection import SelectKBest, f_classif\n",
    "from sklearn.preprocessing import StandardScaler, MinMaxScaler"
   ]
  },
  {
   "cell_type": "code",
   "execution_count": 4,
   "id": "879a449b",
   "metadata": {},
   "outputs": [],
   "source": [
    "import pickle\n",
    "\n",
    "# Load DataFrame\n",
    "with open(\"../data/alter/df1_encoded.pkl\", \"rb\") as f:\n",
    "    df = pickle.load(f)"
   ]
  },
  {
   "cell_type": "code",
   "execution_count": 5,
   "id": "348bb25c",
   "metadata": {},
   "outputs": [],
   "source": [
    "# Separate features and target\n",
    "X = df.drop(columns=['Status'])   # replace 'Status' if target column has a different name\n",
    "y = df['Status']"
   ]
  },
  {
   "cell_type": "code",
   "execution_count": 6,
   "id": "a8a5cd04",
   "metadata": {},
   "outputs": [],
   "source": [
    "# Features that should use StandardScaler\n",
    "standard_cols = ['income', 'loan_amount', 'Credit_Score', 'property_value', 'age']\n"
   ]
  },
  {
   "cell_type": "code",
   "execution_count": 7,
   "id": "59b728e1",
   "metadata": {},
   "outputs": [],
   "source": [
    "# Create copies\n",
    "X_scaled = X.copy()"
   ]
  },
  {
   "cell_type": "code",
   "execution_count": 10,
   "id": "8b1d6757",
   "metadata": {},
   "outputs": [],
   "source": [
    "# Apply StandardScaler\n",
    "scaler_standard = StandardScaler()\n",
    "X_scaled[standard_cols] = scaler_standard.fit_transform(X[standard_cols])"
   ]
  },
  {
   "cell_type": "code",
   "execution_count": 11,
   "id": "84a74c5e",
   "metadata": {},
   "outputs": [],
   "source": [
    "# Features that should use MinMaxScaler\n",
    "minmax_cols = ['LTV', 'dtir1']"
   ]
  },
  {
   "cell_type": "code",
   "execution_count": 12,
   "id": "d29c8f51",
   "metadata": {},
   "outputs": [],
   "source": [
    "# Apply MinMaxScaler\n",
    "scaler_minmax = MinMaxScaler()\n",
    "X_scaled[minmax_cols] = scaler_minmax.fit_transform(X[minmax_cols])"
   ]
  },
  {
   "cell_type": "code",
   "execution_count": 13,
   "id": "9740c7cb",
   "metadata": {},
   "outputs": [
    {
     "name": "stdout",
     "output_type": "stream",
     "text": [
      "Scaled dataset preview:\n",
      "      ID  year  loan_limit  Gender  approv_in_adv  loan_type  loan_purpose  \\\n",
      "0  24890  2019           1       3              1          0             1   \n",
      "1  24891  2019           1       2              1          1             1   \n",
      "2  24892  2019           1       2              2          0             1   \n",
      "3  24893  2019           1       2              1          0             4   \n",
      "4  24894  2019           1       1              2          0             1   \n",
      "\n",
      "   Credit_Worthiness  open_credit  business_or_commercial  ...    income  \\\n",
      "0                  0            0                       1  ... -1.333825   \n",
      "1                  0            0                       0  ... -0.417221   \n",
      "2                  0            0                       1  ...  0.855840   \n",
      "3                  0            0                       1  ...  1.534806   \n",
      "4                  0            0                       1  ...  1.127427   \n",
      "\n",
      "   credit_type  Credit_Score  co-applicant_credit_type       age  \\\n",
      "0            3      0.502430                         0 -1.473348   \n",
      "1            2     -1.275344                         1  0.499897   \n",
      "2            3      1.158307                         0 -0.815600   \n",
      "3            3     -0.973295                         0 -0.157852   \n",
      "4            1     -0.843846                         1 -1.473348   \n",
      "\n",
      "   submission_of_application       LTV  Region  Security_Type     dtir1  \n",
      "0                          1  0.788664       3              1  0.647727  \n",
      "1                          1  0.513287       0              1  0.511364  \n",
      "2                          1  0.570414       3              1  0.670455  \n",
      "3                          0  0.446261       0              1  0.579545  \n",
      "4                          0  0.708846       0              1  0.511364  \n",
      "\n",
      "[5 rows x 33 columns]\n"
     ]
    }
   ],
   "source": [
    "print(\"Scaled dataset preview:\")\n",
    "print(X_scaled.head())"
   ]
  },
  {
   "cell_type": "code",
   "execution_count": 14,
   "id": "6ab61998",
   "metadata": {},
   "outputs": [],
   "source": [
    "import pickle\n",
    "\n",
    "# Save the scaled features and target\n",
    "with open('../data/alter/X_scaled.pkl', 'wb') as f:\n",
    "    pickle.dump(X_scaled, f)\n",
    "\n",
    "with open('../data/alter/y.pkl', 'wb') as f:\n",
    "    pickle.dump(y, f)\n"
   ]
  },
  {
   "cell_type": "code",
   "execution_count": null,
   "id": "7406eb43",
   "metadata": {},
   "outputs": [],
   "source": []
  }
 ],
 "metadata": {
  "kernelspec": {
   "display_name": "base",
   "language": "python",
   "name": "python3"
  },
  "language_info": {
   "codemirror_mode": {
    "name": "ipython",
    "version": 3
   },
   "file_extension": ".py",
   "mimetype": "text/x-python",
   "name": "python",
   "nbconvert_exporter": "python",
   "pygments_lexer": "ipython3",
   "version": "3.12.3"
  }
 },
 "nbformat": 4,
 "nbformat_minor": 5
}
